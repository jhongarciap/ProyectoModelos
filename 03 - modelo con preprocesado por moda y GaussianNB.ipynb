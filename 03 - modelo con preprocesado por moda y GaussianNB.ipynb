{
  "nbformat": 4,
  "nbformat_minor": 0,
  "metadata": {
    "colab": {
      "provenance": []
    },
    "kernelspec": {
      "name": "python3",
      "display_name": "Python 3"
    },
    "language_info": {
      "name": "python"
    }
  },
  "cells": [
    {
      "cell_type": "markdown",
      "source": [
        "#**MODELO PROCESADO POR MODA Y GAUSSIAN_NB**\n",
        "\n"
      ],
      "metadata": {
        "id": "DGyRdRZfEIdY"
      }
    },
    {
      "cell_type": "markdown",
      "source": [
        "##**IMPORTACIÓN**\n",
        "Importamos las librerias necesarias para el desarrollo del modelo."
      ],
      "metadata": {
        "id": "wwWvjsYBFNGY"
      }
    },
    {
      "cell_type": "code",
      "execution_count": 15,
      "metadata": {
        "id": "nMjbB8wu8_Sr"
      },
      "outputs": [],
      "source": [
        "import pandas as pd\n",
        "import numpy as np\n",
        "import matplotlib.pyplot as plt\n",
        "import seaborn as sns\n",
        "from sklearn.preprocessing import LabelEncoder\n",
        "from sklearn.ensemble import RandomForestClassifier\n",
        "import gdown"
      ]
    },
    {
      "cell_type": "markdown",
      "source": [
        "##**DATOS**\n",
        "Realizamos la conexión de datos por medio de GoogleDrive para leerlos desde allí."
      ],
      "metadata": {
        "id": "wr_gEHE6FwQc"
      }
    },
    {
      "cell_type": "code",
      "source": [
        "url1 = f'https://drive.google.com/uc?id=1EFM-jnbWsT2buCk6NjT_XAffz0oeVyLE'\n",
        "url2 = f'https://drive.google.com/uc?id=1bUsh5xZo8X6Gu9vnqHsrZIyd54XkcZSv'\n",
        "gdown.download(url1, 'train.csv', quiet=False)\n",
        "gdown.download(url2, 'test.csv', quiet=False)"
      ],
      "metadata": {
        "colab": {
          "base_uri": "https://localhost:8080/",
          "height": 202
        },
        "id": "RS9mxBVG9jVz",
        "outputId": "636c5782-bc4b-4a50-a8ec-e4c24935cbd5"
      },
      "execution_count": 16,
      "outputs": [
        {
          "output_type": "stream",
          "name": "stderr",
          "text": [
            "Downloading...\n",
            "From (original): https://drive.google.com/uc?id=1EFM-jnbWsT2buCk6NjT_XAffz0oeVyLE\n",
            "From (redirected): https://drive.google.com/uc?id=1EFM-jnbWsT2buCk6NjT_XAffz0oeVyLE&confirm=t&uuid=fa10b7da-6625-4734-b92e-e30c80c6aa1a\n",
            "To: /content/train.csv\n",
            "100%|██████████| 118M/118M [00:02<00:00, 51.8MB/s]\n",
            "Downloading...\n",
            "From: https://drive.google.com/uc?id=1bUsh5xZo8X6Gu9vnqHsrZIyd54XkcZSv\n",
            "To: /content/test.csv\n",
            "100%|██████████| 50.1M/50.1M [00:00<00:00, 72.8MB/s]\n"
          ]
        },
        {
          "output_type": "execute_result",
          "data": {
            "text/plain": [
              "'test.csv'"
            ],
            "application/vnd.google.colaboratory.intrinsic+json": {
              "type": "string"
            }
          },
          "metadata": {},
          "execution_count": 16
        }
      ]
    },
    {
      "cell_type": "code",
      "source": [
        "df_train = pd.read_csv('train.csv')\n",
        "df_test = pd.read_csv('test.csv')"
      ],
      "metadata": {
        "id": "gnFMRzuw-Gra"
      },
      "execution_count": 17,
      "outputs": []
    },
    {
      "cell_type": "markdown",
      "source": [
        "##**FUNCIÓN clean_data()**\n",
        "\n",
        "\n",
        "\n",
        "*   Se reemplazan los datos faltantes por la moda\n",
        "*   Se normalizan los valores en varias columnas\n",
        "*   Se hace una normalización especifica pala la columna ESTU_PRGM_ACADEMICO\n",
        "\n"
      ],
      "metadata": {
        "id": "Q_qdcfE9GCJL"
      }
    },
    {
      "cell_type": "code",
      "source": [
        "def clean_data(df):\n",
        "\n",
        "    #reemplazando valores perdidos\n",
        "    columnas_con_nulos = df.columns[df.isnull().any()].tolist()\n",
        "\n",
        "    ccols = [i for i in df.columns if not i in df._get_numeric_data()]\n",
        "    valor_dato_comun = df[ccols].mode().iloc[0]\n",
        "\n",
        "    for column in ccols:\n",
        "        df[column].fillna(valor_dato_comun[column], inplace=True)\n",
        "\n",
        "    #normalización de valores\n",
        "    df['FAMI_ESTRATOVIVIENDA'].replace(['Estrato 1','Estrato 2','Estrato 3','Estrato 4','Estrato 5','Estrato 6','Sin Estrato'],[1,2,3,4,5,6,0],inplace=True)\n",
        "    #df['RENDIMIENTO_GLOBAL'].replace(['bajo','medio-bajo','medio-alto','alto'],[1,2,3,4],inplace=True)\n",
        "\n",
        "    df[\"FAMI_TIENEINTERNET\"] = df[\"FAMI_TIENEINTERNET\"].replace({'Si': 1, 'No': 0})\n",
        "    df[\"ESTU_PAGOMATRICULAPROPIO\"] = df[\"ESTU_PAGOMATRICULAPROPIO\"].replace({'Si': 1, 'No': 0})\n",
        "\n",
        "    df['ESTU_VALORMATRICULAUNIVERSIDAD'].replace(['No pagó matrícula'],[0],inplace=True)\n",
        "    df['ESTU_VALORMATRICULAUNIVERSIDAD'].replace(['Menos de 500 mil'],[1],inplace=True)\n",
        "    df['ESTU_VALORMATRICULAUNIVERSIDAD'].replace(['Entre 500 mil y menos de 1 millón'],[2],inplace=True)\n",
        "    df['ESTU_VALORMATRICULAUNIVERSIDAD'].replace(['Entre 1 millón y menos de 2.5 millones'],[3],inplace=True)\n",
        "    df['ESTU_VALORMATRICULAUNIVERSIDAD'].replace(['Entre 2.5 millones y menos de 4 millones'],[4],inplace=True)\n",
        "    df['ESTU_VALORMATRICULAUNIVERSIDAD'].replace(['Entre 4 millones y menos de 5.5 millones'],[5],inplace=True)\n",
        "    df['ESTU_VALORMATRICULAUNIVERSIDAD'].replace(['Entre 5.5 millones y menos de 7 millones'],[6],inplace=True)\n",
        "    df['ESTU_VALORMATRICULAUNIVERSIDAD'].replace(['Más de 7 millones'],[7],inplace=True)\n",
        "\n",
        "    df['ESTU_HORASSEMANATRABAJA'].replace(['0','Menos de 10 horas','Entre 11 y 20 horas','Entre 21 y 30 horas','Más de 30 horas'],[0,1,2,3,4],inplace=True)\n",
        "\n",
        "\n",
        "    df['ESTU_PRGM_ACADEMICO'] = df['ESTU_PRGM_ACADEMICO'].str.replace('PROFESIONAL EN ', '')\n",
        "\n",
        "    #df['ESTU_PRGM_ACADEMICO'] = df['ESTU_PRGM_ACADEMICO'].apply(lambda x: 'INGENIERIA' if x.startswith('INGE') else x)\n",
        "    df['ESTU_PRGM_ACADEMICO'] = df['ESTU_PRGM_ACADEMICO'].apply(lambda x: 'LICENCIATURA' if x.startswith('LIC') or x.startswith('Lic') else x)\n",
        "    df['ESTU_PRGM_ACADEMICO'] = df['ESTU_PRGM_ACADEMICO'].apply(lambda x: 'ADMINISTRACION' if x.startswith('ADM')   else x)\n",
        "    df['ESTU_PRGM_ACADEMICO'] = df['ESTU_PRGM_ACADEMICO'].apply(lambda x: 'CONTADURIA' if x.startswith('CONT')   else x)\n",
        "    df['ESTU_PRGM_ACADEMICO'] = df['ESTU_PRGM_ACADEMICO'].apply(lambda x: 'COMUNICACION' if x.startswith('COMU')   else x)\n",
        "\n",
        "    df['ESTU_PRGM_ACADEMICO'] = df['ESTU_PRGM_ACADEMICO'].apply(lambda x: 'DEPORTE' if 'DEPORT'  in x else x)\n",
        "    df['ESTU_PRGM_ACADEMICO'] = df['ESTU_PRGM_ACADEMICO'].apply(lambda x: 'PSICOLOGIA' if 'PSIC' in x else x)\n",
        "    df['ESTU_PRGM_ACADEMICO'] = df['ESTU_PRGM_ACADEMICO'].apply(lambda x: 'TRABAJO SOCIAL' if 'TRABAJO SOCIAL' in x else x)\n",
        "    df['ESTU_PRGM_ACADEMICO'] = df['ESTU_PRGM_ACADEMICO'].apply(lambda x: 'DISEÑO' if 'DISE' in x else x)\n",
        "    df['ESTU_PRGM_ACADEMICO'] = df['ESTU_PRGM_ACADEMICO'].apply(lambda x: 'TERAPIA' if 'TERAP' in x else x)\n",
        "    df['ESTU_PRGM_ACADEMICO'] = df['ESTU_PRGM_ACADEMICO'].apply(lambda x: 'GASTRONOMIA' if 'GASTRON' in x else x)\n",
        "    df['ESTU_PRGM_ACADEMICO'] = df['ESTU_PRGM_ACADEMICO'].apply(lambda x: 'VETERINARIA Y ZOOTECNIA' if 'ZOOTECNIA' in x else x)\n",
        "    df['ESTU_PRGM_ACADEMICO'] = df['ESTU_PRGM_ACADEMICO'].apply(lambda x: 'NUTRICION' if 'NUTRIC' in x else x)\n",
        "    df['ESTU_PRGM_ACADEMICO'] = df['ESTU_PRGM_ACADEMICO'].apply(lambda x: 'MARKETING' if ( 'MARKETING' in x or 'PUBLICIDAD' in x or 'MERCAD' in x) else x)\n",
        "    df['ESTU_PRGM_ACADEMICO'] = df['ESTU_PRGM_ACADEMICO'].apply(lambda x: 'MATEMATICAS Y ESTADISTICA' if ('MATE' in x or 'ESTA' in x) else x)\n",
        "    df['ESTU_PRGM_ACADEMICO'] = df['ESTU_PRGM_ACADEMICO'].apply(lambda x: 'ARTES' if 'ARTE' in x else x)\n",
        "    df['ESTU_PRGM_ACADEMICO'] = df['ESTU_PRGM_ACADEMICO'].apply(lambda x: 'LITERATURA' if 'LITER' in x else x)\n",
        "    df['ESTU_PRGM_ACADEMICO'] = df['ESTU_PRGM_ACADEMICO'].apply(lambda x: 'MUSICA' if ('MUS' in x or 'MÚS' in x) else x)\n",
        "    df['ESTU_PRGM_ACADEMICO'] = df['ESTU_PRGM_ACADEMICO'].apply(lambda x: 'ECONOMIA Y NEGOCIOS' if ('ECONO' in x or 'NEG' in x or 'COME' in x or 'FIN' in x) else x)\n",
        "    df['ESTU_PRGM_ACADEMICO'] = df['ESTU_PRGM_ACADEMICO'].apply(lambda x: 'CIENCIAS DE LA TIERRA' if 'GEO' in x else x)\n",
        "    df['ESTU_PRGM_ACADEMICO'] = df['ESTU_PRGM_ACADEMICO'].apply(lambda x: 'CIENCIAS AUDIOVISUALES' if ('CINE' in x or 'RADIO' in x or 'TELEV' in x or 'AUDIOV' in x or 'FOTOG' in x) else x)\n",
        "    df['ESTU_PRGM_ACADEMICO'] = df['ESTU_PRGM_ACADEMICO'].apply(lambda x: 'DERECHO' if 'DERECHO' in x else x)\n",
        "    df['ESTU_PRGM_ACADEMICO'] = df['ESTU_PRGM_ACADEMICO'].apply(lambda x: 'CIENCIAS POLITICAS' if ( 'POLIT' in x or 'POLÍT' in x) else x)\n",
        "    df['ESTU_PRGM_ACADEMICO'] = df['ESTU_PRGM_ACADEMICO'].apply(lambda x: 'INGENIERIA' if 'INGE' in x else x)\n",
        "    df['ESTU_PRGM_ACADEMICO'] = df['ESTU_PRGM_ACADEMICO'].apply(lambda x: 'QUIMICA' if ('QUIM' in x or 'QUÍM' in x or 'QU¿M' in x) else x)\n",
        "    df['ESTU_PRGM_ACADEMICO'] = df['ESTU_PRGM_ACADEMICO'].apply(lambda x: 'CONSTRUCCION' if 'CONST' in x else x)\n",
        "    df['ESTU_PRGM_ACADEMICO'] = df['ESTU_PRGM_ACADEMICO'].apply(lambda x: 'TURISMO' if 'TURIS' in x else x)\n",
        "    df['ESTU_PRGM_ACADEMICO'] = df['ESTU_PRGM_ACADEMICO'].apply(lambda x: 'BIBLIOTECOLOGIA' if 'BIBLIO' in x else x)\n",
        "    df['ESTU_PRGM_ACADEMICO'] = df['ESTU_PRGM_ACADEMICO'].apply(lambda x: 'FILOSOFIA' if 'FILOS' in x else x)\n",
        "    df['ESTU_PRGM_ACADEMICO'] = df['ESTU_PRGM_ACADEMICO'].apply(lambda x: 'FILOLOGIA' if 'FILOL' in x else x)\n",
        "    df['ESTU_PRGM_ACADEMICO'] = df['ESTU_PRGM_ACADEMICO'].apply(lambda x: 'ODONTOLOGIA' if 'ODONTOLOG' in x else x)\n",
        "    df['ESTU_PRGM_ACADEMICO'] = df['ESTU_PRGM_ACADEMICO'].apply(lambda x: 'BIOLOGIA Y MICROBIOLOGIA' if 'BIOL' in x else x)\n",
        "    df['ESTU_PRGM_ACADEMICO'] = df['ESTU_PRGM_ACADEMICO'].apply(lambda x: 'ECOLOGIA' if x.startswith('ECOL')   else x)\n",
        "    df['ESTU_PRGM_ACADEMICO'] = df['ESTU_PRGM_ACADEMICO'].apply(lambda x: 'BACTERIOLOGIA' if 'BACT' in x else x)\n",
        "    df['ESTU_PRGM_ACADEMICO'] = df['ESTU_PRGM_ACADEMICO'].replace('ACUICULTURA', 'ACUICUlTURA')\n",
        "    df['ESTU_PRGM_ACADEMICO'] = df['ESTU_PRGM_ACADEMICO'].apply(lambda x: 'CIENCIAS CULTURALES' if 'CULT' in x else x)\n",
        "    df['ESTU_PRGM_ACADEMICO'] = df['ESTU_PRGM_ACADEMICO'].apply(lambda x: 'INSTRUMENTACION QUIRURGICA' if 'INSTRUMENTACION' in x else x)\n",
        "    df['ESTU_PRGM_ACADEMICO'] = df['ESTU_PRGM_ACADEMICO'].apply(lambda x: 'CIENCIAS MARITIMAS Y AERONAUTICAS' if ('MILIT' in x or 'NAVALES' in x or 'NAU' in x) else x)\n",
        "\n",
        "\n",
        "    # Calcula el conteo de cada valor en la columna 'ESTU_PRGM_ACADEMICO'\n",
        "    conteo_valores = df['ESTU_PRGM_ACADEMICO'].value_counts()\n",
        "\n",
        "    # Obtén los valores que tienen menos de N registros\n",
        "    valores_menos_de_20 = conteo_valores[conteo_valores <= 20]\n",
        "    valores_menos_de_20\n",
        "\n",
        "    # Reemplaza los valores que tienen menos de N registros con 'OTRO PROGRAMA'\n",
        "    for valor in valores_menos_de_20.index:\n",
        "        df.loc[df['ESTU_PRGM_ACADEMICO'] == valor, 'ESTU_PRGM_ACADEMICO'] = 'OTRO PROGRAMA'\n",
        "\n",
        "    df = pd.get_dummies(df, columns= [\"ESTU_PRGM_ACADEMICO\",\"ESTU_PRGM_DEPARTAMENTO\",\"FAMI_EDUCACIONPADRE\",\"FAMI_EDUCACIONMADRE\"])\n",
        "    df = df.fillna(-1).astype(int)\n",
        "\n",
        "    return df"
      ],
      "metadata": {
        "id": "Y_K6_MmFCI_h"
      },
      "execution_count": 32,
      "outputs": []
    },
    {
      "cell_type": "code",
      "source": [
        "lentr = len(df_train)\n",
        "\n",
        "# Definir las columnas de origen, excluyendo la variable objetivo\n",
        "source_cols = [i for i in df_train.columns if i != \"RENDIMIENTO_GLOBAL\"]\n",
        "\n",
        "# Combinar los datos de entrenamiento y prueba para preprocesamiento\n",
        "all_data = pd.concat((df_train[source_cols], df_test[source_cols]))\n",
        "all_data.index = range(len(all_data))\n",
        "\n",
        "# Limpiar los datos usando la función clean_data\n",
        "all_data = clean_data(all_data)\n",
        "\n",
        "# Dividir los datos combinados nuevamente en conjuntos de entrenamiento y prueba\n",
        "Xtrain = all_data.iloc[:lentr].values\n",
        "ytrain = df_train[\"RENDIMIENTO_GLOBAL\"].values\n",
        "Xtest = all_data.iloc[lentr:].values\n",
        "\n",
        "# Imprimir las formas de los conjuntos de entrenamiento y prueba\n",
        "print(\"Forma de Xtrain:\", Xtrain.shape)\n",
        "print(\"Forma de ytrain:\", ytrain.shape)\n",
        "print(\"Forma de Xtest:\", Xtest.shape)"
      ],
      "metadata": {
        "colab": {
          "base_uri": "https://localhost:8080/"
        },
        "id": "KsbL2A7V-siy",
        "outputId": "050dd47c-8c50-4147-b874-ad4a11a2b348"
      },
      "execution_count": 33,
      "outputs": [
        {
          "output_type": "stream",
          "name": "stderr",
          "text": [
            "<ipython-input-32-e45e45f85415>:10: FutureWarning: A value is trying to be set on a copy of a DataFrame or Series through chained assignment using an inplace method.\n",
            "The behavior will change in pandas 3.0. This inplace method will never work because the intermediate object on which we are setting values always behaves as a copy.\n",
            "\n",
            "For example, when doing 'df[col].method(value, inplace=True)', try using 'df.method({col: value}, inplace=True)' or df[col] = df[col].method(value) instead, to perform the operation inplace on the original object.\n",
            "\n",
            "\n",
            "  df[column].fillna(valor_dato_comun[column], inplace=True)\n",
            "<ipython-input-32-e45e45f85415>:13: FutureWarning: Downcasting behavior in `replace` is deprecated and will be removed in a future version. To retain the old behavior, explicitly call `result.infer_objects(copy=False)`. To opt-in to the future behavior, set `pd.set_option('future.no_silent_downcasting', True)`\n",
            "  df['FAMI_ESTRATOVIVIENDA'].replace(['Estrato 1','Estrato 2','Estrato 3','Estrato 4','Estrato 5','Estrato 6','Sin Estrato'],[1,2,3,4,5,6,0],inplace=True)\n",
            "<ipython-input-32-e45e45f85415>:16: FutureWarning: Downcasting behavior in `replace` is deprecated and will be removed in a future version. To retain the old behavior, explicitly call `result.infer_objects(copy=False)`. To opt-in to the future behavior, set `pd.set_option('future.no_silent_downcasting', True)`\n",
            "  df[\"FAMI_TIENEINTERNET\"] = df[\"FAMI_TIENEINTERNET\"].replace({'Si': 1, 'No': 0})\n",
            "<ipython-input-32-e45e45f85415>:17: FutureWarning: Downcasting behavior in `replace` is deprecated and will be removed in a future version. To retain the old behavior, explicitly call `result.infer_objects(copy=False)`. To opt-in to the future behavior, set `pd.set_option('future.no_silent_downcasting', True)`\n",
            "  df[\"ESTU_PAGOMATRICULAPROPIO\"] = df[\"ESTU_PAGOMATRICULAPROPIO\"].replace({'Si': 1, 'No': 0})\n",
            "<ipython-input-32-e45e45f85415>:19: FutureWarning: A value is trying to be set on a copy of a DataFrame or Series through chained assignment using an inplace method.\n",
            "The behavior will change in pandas 3.0. This inplace method will never work because the intermediate object on which we are setting values always behaves as a copy.\n",
            "\n",
            "For example, when doing 'df[col].method(value, inplace=True)', try using 'df.method({col: value}, inplace=True)' or df[col] = df[col].method(value) instead, to perform the operation inplace on the original object.\n",
            "\n",
            "\n",
            "  df['ESTU_VALORMATRICULAUNIVERSIDAD'].replace(['No pagó matrícula'],[0],inplace=True)\n",
            "<ipython-input-32-e45e45f85415>:26: FutureWarning: Downcasting behavior in `replace` is deprecated and will be removed in a future version. To retain the old behavior, explicitly call `result.infer_objects(copy=False)`. To opt-in to the future behavior, set `pd.set_option('future.no_silent_downcasting', True)`\n",
            "  df['ESTU_VALORMATRICULAUNIVERSIDAD'].replace(['Más de 7 millones'],[7],inplace=True)\n",
            "<ipython-input-32-e45e45f85415>:28: FutureWarning: A value is trying to be set on a copy of a DataFrame or Series through chained assignment using an inplace method.\n",
            "The behavior will change in pandas 3.0. This inplace method will never work because the intermediate object on which we are setting values always behaves as a copy.\n",
            "\n",
            "For example, when doing 'df[col].method(value, inplace=True)', try using 'df.method({col: value}, inplace=True)' or df[col] = df[col].method(value) instead, to perform the operation inplace on the original object.\n",
            "\n",
            "\n",
            "  df['ESTU_HORASSEMANATRABAJA'].replace(['0','Menos de 10 horas','Entre 11 y 20 horas','Entre 21 y 30 horas','Más de 30 horas'],[0,1,2,3,4],inplace=True)\n",
            "<ipython-input-32-e45e45f85415>:28: FutureWarning: Downcasting behavior in `replace` is deprecated and will be removed in a future version. To retain the old behavior, explicitly call `result.infer_objects(copy=False)`. To opt-in to the future behavior, set `pd.set_option('future.no_silent_downcasting', True)`\n",
            "  df['ESTU_HORASSEMANATRABAJA'].replace(['0','Menos de 10 horas','Entre 11 y 20 horas','Entre 21 y 30 horas','Más de 30 horas'],[0,1,2,3,4],inplace=True)\n"
          ]
        },
        {
          "output_type": "stream",
          "name": "stdout",
          "text": [
            "Forma de Xtrain: (692500, 162)\n",
            "Forma de ytrain: (692500,)\n",
            "Forma de Xtest: (296786, 162)\n"
          ]
        }
      ]
    },
    {
      "cell_type": "markdown",
      "source": [
        "###**ENTRENAMIENTO DEL MODELO**"
      ],
      "metadata": {
        "id": "qssxXjByHTs4"
      }
    },
    {
      "cell_type": "code",
      "source": [
        "from sklearn.naive_bayes import GaussianNB\n",
        "from sklearn.model_selection import cross_val_score\n",
        "# Inicializar el clasificador Naive Bayes Gaussiano\n",
        "nb = GaussianNB()\n",
        "\n",
        "# Realizar validación cruzada en el conjunto de entrenamiento\n",
        "cv_scores = cross_val_score(nb, Xtrain, ytrain)\n",
        "print(\"Puntuaciones de validación cruzada:\", cv_scores)\n",
        "\n",
        "# Entrenar el clasificador en los datos de entrenamiento\n",
        "nb.fit(Xtrain, ytrain)\n",
        "\n",
        "# Predecir en el conjunto de prueba\n",
        "preds_ts = nb.predict(Xtest)\n",
        "print(\"Predicciones en el conjunto de prueba:\", preds_ts)\n"
      ],
      "metadata": {
        "colab": {
          "base_uri": "https://localhost:8080/"
        },
        "id": "xj6fsjCgDD9T",
        "outputId": "cb7bb9df-5705-4a43-fe7c-ddf561a8beea"
      },
      "execution_count": 34,
      "outputs": [
        {
          "output_type": "stream",
          "name": "stdout",
          "text": [
            "Puntuaciones de validación cruzada: [0.31537184 0.3167509  0.31657762 0.31634657 0.31459206]\n",
            "Predicciones en el conjunto de prueba: ['medio-bajo' 'bajo' 'bajo' ... 'bajo' 'alto' 'bajo']\n"
          ]
        }
      ]
    },
    {
      "cell_type": "markdown",
      "source": [
        "###**CREACIÓN DE ARCHIVO**"
      ],
      "metadata": {
        "id": "jm2ppYDTHd_n"
      }
    },
    {
      "cell_type": "code",
      "source": [
        "# Crear un DataFrame de envío con el ID y los valores predichos\n",
        "submission = pd.DataFrame({\n",
        "    \"ID\": df_test.ID,\n",
        "    \"RENDIMIENTO_GLOBAL\": preds_ts\n",
        "})\n",
        "\n",
        "# Mostrar las primeras filas del DataFrame de envío\n",
        "print(submission.head())\n",
        "\n",
        "# Guardar el DataFrame de envío en un archivo CSV\n",
        "print(\"*************** Crear archivo ************\")\n",
        "submission.to_csv(\"archivo_final.csv\", index=False)"
      ],
      "metadata": {
        "colab": {
          "base_uri": "https://localhost:8080/"
        },
        "id": "qpH6AAB3Dbw9",
        "outputId": "51c69475-dcd7-44ec-b039-c2aaf916f1aa"
      },
      "execution_count": 35,
      "outputs": [
        {
          "output_type": "stream",
          "name": "stdout",
          "text": [
            "       ID RENDIMIENTO_GLOBAL\n",
            "0  550236         medio-bajo\n",
            "1   98545               bajo\n",
            "2  499179               bajo\n",
            "3  782980         medio-bajo\n",
            "4  785185               bajo\n",
            "*************** Crear archivo ************\n"
          ]
        }
      ]
    }
  ]
}