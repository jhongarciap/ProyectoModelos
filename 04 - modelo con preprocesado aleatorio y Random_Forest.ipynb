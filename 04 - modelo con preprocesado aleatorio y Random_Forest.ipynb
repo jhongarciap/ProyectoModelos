{
  "nbformat": 4,
  "nbformat_minor": 0,
  "metadata": {
    "colab": {
      "provenance": []
    },
    "kernelspec": {
      "name": "python3",
      "display_name": "Python 3"
    },
    "language_info": {
      "name": "python"
    }
  },
  "cells": [
    {
      "cell_type": "markdown",
      "source": [
        "# **Imputar preprocesado de forma aleatoria y Random Forest**"
      ],
      "metadata": {
        "id": "pdyE6Csp_tLF"
      }
    },
    {
      "cell_type": "markdown",
      "source": [
        "Se reemplazar los datos de forma aleatoria por un dato existente en la columna y se utiliza Random Forest para predecir"
      ],
      "metadata": {
        "id": "uVuhZS8LAad0"
      }
    },
    {
      "cell_type": "markdown",
      "source": [
        "# **IMPORTACIÓN**"
      ],
      "metadata": {
        "id": "fhuQt8uC_v4Y"
      }
    },
    {
      "cell_type": "markdown",
      "source": [
        "Se importan y descargaran cada una de las librerias que se utilizaran"
      ],
      "metadata": {
        "id": "LlkAqx7I_y-U"
      }
    },
    {
      "cell_type": "code",
      "source": [
        "!pip install rlxutils"
      ],
      "metadata": {
        "colab": {
          "base_uri": "https://localhost:8080/"
        },
        "id": "UiEGFI3_9SM5",
        "outputId": "d24fc99f-e895-4d15-c09f-b6f1a8f91529"
      },
      "execution_count": 2,
      "outputs": [
        {
          "output_type": "stream",
          "name": "stdout",
          "text": [
            "Collecting rlxutils\n",
            "  Downloading rlxutils-0.1.10.tar.gz (8.8 kB)\n",
            "  Preparing metadata (setup.py) ... \u001b[?25l\u001b[?25hdone\n",
            "Requirement already satisfied: matplotlib in /usr/local/lib/python3.10/dist-packages (from rlxutils) (3.8.0)\n",
            "Requirement already satisfied: numpy in /usr/local/lib/python3.10/dist-packages (from rlxutils) (1.26.4)\n",
            "Requirement already satisfied: pandas in /usr/local/lib/python3.10/dist-packages (from rlxutils) (2.2.2)\n",
            "Requirement already satisfied: joblib in /usr/local/lib/python3.10/dist-packages (from rlxutils) (1.4.2)\n",
            "Requirement already satisfied: progressbar2 in /usr/local/lib/python3.10/dist-packages (from rlxutils) (4.5.0)\n",
            "Requirement already satisfied: psutil in /usr/local/lib/python3.10/dist-packages (from rlxutils) (5.9.5)\n",
            "Requirement already satisfied: scipy in /usr/local/lib/python3.10/dist-packages (from rlxutils) (1.13.1)\n",
            "Requirement already satisfied: contourpy>=1.0.1 in /usr/local/lib/python3.10/dist-packages (from matplotlib->rlxutils) (1.3.1)\n",
            "Requirement already satisfied: cycler>=0.10 in /usr/local/lib/python3.10/dist-packages (from matplotlib->rlxutils) (0.12.1)\n",
            "Requirement already satisfied: fonttools>=4.22.0 in /usr/local/lib/python3.10/dist-packages (from matplotlib->rlxutils) (4.55.0)\n",
            "Requirement already satisfied: kiwisolver>=1.0.1 in /usr/local/lib/python3.10/dist-packages (from matplotlib->rlxutils) (1.4.7)\n",
            "Requirement already satisfied: packaging>=20.0 in /usr/local/lib/python3.10/dist-packages (from matplotlib->rlxutils) (24.2)\n",
            "Requirement already satisfied: pillow>=6.2.0 in /usr/local/lib/python3.10/dist-packages (from matplotlib->rlxutils) (11.0.0)\n",
            "Requirement already satisfied: pyparsing>=2.3.1 in /usr/local/lib/python3.10/dist-packages (from matplotlib->rlxutils) (3.2.0)\n",
            "Requirement already satisfied: python-dateutil>=2.7 in /usr/local/lib/python3.10/dist-packages (from matplotlib->rlxutils) (2.8.2)\n",
            "Requirement already satisfied: pytz>=2020.1 in /usr/local/lib/python3.10/dist-packages (from pandas->rlxutils) (2024.2)\n",
            "Requirement already satisfied: tzdata>=2022.7 in /usr/local/lib/python3.10/dist-packages (from pandas->rlxutils) (2024.2)\n",
            "Requirement already satisfied: python-utils>=3.8.1 in /usr/local/lib/python3.10/dist-packages (from progressbar2->rlxutils) (3.9.0)\n",
            "Requirement already satisfied: six>=1.5 in /usr/local/lib/python3.10/dist-packages (from python-dateutil>=2.7->matplotlib->rlxutils) (1.16.0)\n",
            "Requirement already satisfied: typing-extensions>3.10.0.2 in /usr/local/lib/python3.10/dist-packages (from python-utils>=3.8.1->progressbar2->rlxutils) (4.12.2)\n",
            "Building wheels for collected packages: rlxutils\n",
            "  Building wheel for rlxutils (setup.py) ... \u001b[?25l\u001b[?25hdone\n",
            "  Created wheel for rlxutils: filename=rlxutils-0.1.10-py3-none-any.whl size=11100 sha256=07cf8fca490921be89ab69e8aa587f2ba3d876e2bbb096d0ee9f04bcee209c60\n",
            "  Stored in directory: /root/.cache/pip/wheels/9a/45/da/49bdb0e82cc7a605e9c05dc24265687c5f349b53dcb74728e2\n",
            "Successfully built rlxutils\n",
            "Installing collected packages: rlxutils\n",
            "Successfully installed rlxutils-0.1.10\n"
          ]
        }
      ]
    },
    {
      "cell_type": "code",
      "execution_count": 3,
      "metadata": {
        "id": "gm8GTD_f7ZB2"
      },
      "outputs": [],
      "source": [
        "import pandas as pd\n",
        "import numpy as np\n",
        "import matplotlib.pyplot as plt\n",
        "import seaborn as sns\n",
        "from sklearn.preprocessing import LabelEncoder\n",
        "from sklearn.ensemble import RandomForestClassifier\n",
        "import gdown\n",
        "from rlxutils import subplots"
      ]
    },
    {
      "cell_type": "markdown",
      "source": [
        "# **Drive**"
      ],
      "metadata": {
        "id": "pf9yhzID_63U"
      }
    },
    {
      "cell_type": "markdown",
      "source": [
        "Se conecta con el drive para descargar los archivos del mismo y cargarlos al coolab para manejarlos"
      ],
      "metadata": {
        "id": "QOxHrTMv__WD"
      }
    },
    {
      "cell_type": "code",
      "source": [
        "url1 = f'https://drive.google.com/uc?id=1EFM-jnbWsT2buCk6NjT_XAffz0oeVyLE'\n",
        "url2 = f'https://drive.google.com/uc?id=1bUsh5xZo8X6Gu9vnqHsrZIyd54XkcZSv'\n",
        "gdown.download(url1, 'train.csv', quiet=False)\n",
        "gdown.download(url2, 'test.csv', quiet=False)"
      ],
      "metadata": {
        "colab": {
          "base_uri": "https://localhost:8080/",
          "height": 192
        },
        "id": "iIJo8i2f7dvh",
        "outputId": "70d0f8fb-b127-4ab3-a488-8ca3a0ea0386"
      },
      "execution_count": 4,
      "outputs": [
        {
          "output_type": "stream",
          "name": "stderr",
          "text": [
            "Downloading...\n",
            "From (original): https://drive.google.com/uc?id=1EFM-jnbWsT2buCk6NjT_XAffz0oeVyLE\n",
            "From (redirected): https://drive.google.com/uc?id=1EFM-jnbWsT2buCk6NjT_XAffz0oeVyLE&confirm=t&uuid=dd8c629f-c043-4308-bd68-f0d53d8e6eb8\n",
            "To: /content/train.csv\n",
            "100%|██████████| 118M/118M [00:01<00:00, 72.0MB/s]\n",
            "Downloading...\n",
            "From: https://drive.google.com/uc?id=1bUsh5xZo8X6Gu9vnqHsrZIyd54XkcZSv\n",
            "To: /content/test.csv\n",
            "100%|██████████| 50.1M/50.1M [00:00<00:00, 167MB/s]\n"
          ]
        },
        {
          "output_type": "execute_result",
          "data": {
            "text/plain": [
              "'test.csv'"
            ],
            "application/vnd.google.colaboratory.intrinsic+json": {
              "type": "string"
            }
          },
          "metadata": {},
          "execution_count": 4
        }
      ]
    },
    {
      "cell_type": "code",
      "source": [
        "df_train = pd.read_csv('train.csv')\n",
        "df_test = pd.read_csv('test.csv')"
      ],
      "metadata": {
        "id": "BCOsFelD7ivy"
      },
      "execution_count": 5,
      "outputs": []
    },
    {
      "cell_type": "markdown",
      "source": [
        "# **Función para reemplazar los datos**"
      ],
      "metadata": {
        "id": "0iElRU0cAdn_"
      }
    },
    {
      "cell_type": "markdown",
      "source": [
        "Recibe el dataframe y en nombre de la columna a la cual se va a reemplazar y para todos los valores nulos los reemplaza por un valor aleatoria de la misma columna"
      ],
      "metadata": {
        "id": "gAYUrvhDAfId"
      }
    },
    {
      "cell_type": "code",
      "source": [
        "# Función para reemplazar valores nulos con valores aleatorios de la misma columna\n",
        "def fill_na_with_random_value(df, column):\n",
        "    non_null_values = df[column].dropna().values\n",
        "    df[column] = df[column].apply(lambda x: np.random.choice(non_null_values) if pd.isna(x) else x)"
      ],
      "metadata": {
        "id": "kjOxmFnT75L1"
      },
      "execution_count": 6,
      "outputs": []
    },
    {
      "cell_type": "markdown",
      "source": [
        "# **Funcion clean_data**"
      ],
      "metadata": {
        "id": "l7Wts7gVAkbM"
      }
    },
    {
      "cell_type": "markdown",
      "source": [
        "\n",
        "\n",
        "1.   Se eliminan las columnas no necesarias o repetidas\n",
        "2.   Se reemplazan los datos faltantes de forma aleatoria\n",
        "3.   Se normalizan los valores en varias columnas\n",
        "4.   Se hace una normalización especifica pala la columna ESTU_PRGM_ACADEMICO\n",
        "\n",
        "\n",
        "\n",
        "\n",
        "\n",
        "\n",
        "\n",
        "\n",
        "\n",
        "\n"
      ],
      "metadata": {
        "id": "ijZ36svLAopj"
      }
    },
    {
      "cell_type": "code",
      "source": [
        "def clean_data(df):\n",
        "\n",
        "  columnas_con_nulos = df.columns[df.isnull().any()].tolist()\n",
        "\n",
        "  for col in columnas_con_nulos:\n",
        "    fill_na_with_random_value(df, col)\n",
        "\n",
        "  #normalización de valores\n",
        "  df['FAMI_ESTRATOVIVIENDA'].replace(['Estrato 1','Estrato 2','Estrato 3','Estrato 4','Estrato 5','Estrato 6','Sin Estrato'],[1,2,3,4,5,6,0],inplace=True)\n",
        "  #df['RENDIMIENTO_GLOBAL'].replace(['bajo','medio-bajo','medio-alto','alto'],[1,2,3,4],inplace=True)\n",
        "\n",
        "  df[\"FAMI_TIENEINTERNET\"] = df[\"FAMI_TIENEINTERNET\"].replace({'Si': 1, 'No': 0})\n",
        "  df[\"ESTU_PAGOMATRICULAPROPIO\"] = df[\"ESTU_PAGOMATRICULAPROPIO\"].replace({'Si': 1, 'No': 0})\n",
        "\n",
        "  df['ESTU_VALORMATRICULAUNIVERSIDAD'].replace(['No pagó matrícula'],[0],inplace=True)\n",
        "  df['ESTU_VALORMATRICULAUNIVERSIDAD'].replace(['Menos de 500 mil'],[1],inplace=True)\n",
        "  df['ESTU_VALORMATRICULAUNIVERSIDAD'].replace(['Entre 500 mil y menos de 1 millón'],[2],inplace=True)\n",
        "  df['ESTU_VALORMATRICULAUNIVERSIDAD'].replace(['Entre 1 millón y menos de 2.5 millones'],[3],inplace=True)\n",
        "  df['ESTU_VALORMATRICULAUNIVERSIDAD'].replace(['Entre 2.5 millones y menos de 4 millones'],[4],inplace=True)\n",
        "  df['ESTU_VALORMATRICULAUNIVERSIDAD'].replace(['Entre 4 millones y menos de 5.5 millones'],[5],inplace=True)\n",
        "  df['ESTU_VALORMATRICULAUNIVERSIDAD'].replace(['Entre 5.5 millones y menos de 7 millones'],[6],inplace=True)\n",
        "  df['ESTU_VALORMATRICULAUNIVERSIDAD'].replace(['Más de 7 millones'],[7],inplace=True)\n",
        "\n",
        "  df['ESTU_HORASSEMANATRABAJA'].replace(['0','Menos de 10 horas','Entre 11 y 20 horas','Entre 21 y 30 horas','Más de 30 horas'],[0,1,2,3,4],inplace=True)\n",
        "\n",
        "\n",
        "  df['ESTU_PRGM_ACADEMICO'] = df['ESTU_PRGM_ACADEMICO'].str.replace('PROFESIONAL EN ', '')\n",
        "\n",
        "  #df['ESTU_PRGM_ACADEMICO'] = df['ESTU_PRGM_ACADEMICO'].apply(lambda x: 'INGENIERIA' if x.startswith('INGE') else x)\n",
        "  df['ESTU_PRGM_ACADEMICO'] = df['ESTU_PRGM_ACADEMICO'].apply(lambda x: 'LICENCIATURA' if x.startswith('LIC') or x.startswith('Lic') else x)\n",
        "  df['ESTU_PRGM_ACADEMICO'] = df['ESTU_PRGM_ACADEMICO'].apply(lambda x: 'ADMINISTRACION' if x.startswith('ADM')   else x)\n",
        "  df['ESTU_PRGM_ACADEMICO'] = df['ESTU_PRGM_ACADEMICO'].apply(lambda x: 'CONTADURIA' if x.startswith('CONT')   else x)\n",
        "  df['ESTU_PRGM_ACADEMICO'] = df['ESTU_PRGM_ACADEMICO'].apply(lambda x: 'COMUNICACION' if x.startswith('COMU')   else x)\n",
        "\n",
        "  df['ESTU_PRGM_ACADEMICO'] = df['ESTU_PRGM_ACADEMICO'].apply(lambda x: 'DEPORTE' if 'DEPORT'  in x else x)\n",
        "  df['ESTU_PRGM_ACADEMICO'] = df['ESTU_PRGM_ACADEMICO'].apply(lambda x: 'PSICOLOGIA' if 'PSIC' in x else x)\n",
        "  df['ESTU_PRGM_ACADEMICO'] = df['ESTU_PRGM_ACADEMICO'].apply(lambda x: 'TRABAJO SOCIAL' if 'TRABAJO SOCIAL' in x else x)\n",
        "  df['ESTU_PRGM_ACADEMICO'] = df['ESTU_PRGM_ACADEMICO'].apply(lambda x: 'DISEÑO' if 'DISE' in x else x)\n",
        "  df['ESTU_PRGM_ACADEMICO'] = df['ESTU_PRGM_ACADEMICO'].apply(lambda x: 'TERAPIA' if 'TERAP' in x else x)\n",
        "  df['ESTU_PRGM_ACADEMICO'] = df['ESTU_PRGM_ACADEMICO'].apply(lambda x: 'GASTRONOMIA' if 'GASTRON' in x else x)\n",
        "  df['ESTU_PRGM_ACADEMICO'] = df['ESTU_PRGM_ACADEMICO'].apply(lambda x: 'VETERINARIA Y ZOOTECNIA' if 'ZOOTECNIA' in x else x)\n",
        "  df['ESTU_PRGM_ACADEMICO'] = df['ESTU_PRGM_ACADEMICO'].apply(lambda x: 'NUTRICION' if 'NUTRIC' in x else x)\n",
        "  df['ESTU_PRGM_ACADEMICO'] = df['ESTU_PRGM_ACADEMICO'].apply(lambda x: 'MARKETING' if ( 'MARKETING' in x or 'PUBLICIDAD' in x or 'MERCAD' in x) else x)\n",
        "  df['ESTU_PRGM_ACADEMICO'] = df['ESTU_PRGM_ACADEMICO'].apply(lambda x: 'MATEMATICAS Y ESTADISTICA' if ('MATE' in x or 'ESTA' in x) else x)\n",
        "  df['ESTU_PRGM_ACADEMICO'] = df['ESTU_PRGM_ACADEMICO'].apply(lambda x: 'ARTES' if 'ARTE' in x else x)\n",
        "  df['ESTU_PRGM_ACADEMICO'] = df['ESTU_PRGM_ACADEMICO'].apply(lambda x: 'LITERATURA' if 'LITER' in x else x)\n",
        "  df['ESTU_PRGM_ACADEMICO'] = df['ESTU_PRGM_ACADEMICO'].apply(lambda x: 'MUSICA' if ('MUS' in x or 'MÚS' in x) else x)\n",
        "  df['ESTU_PRGM_ACADEMICO'] = df['ESTU_PRGM_ACADEMICO'].apply(lambda x: 'ECONOMIA Y NEGOCIOS' if ('ECONO' in x or 'NEG' in x or 'COME' in x or 'FIN' in x) else x)\n",
        "  df['ESTU_PRGM_ACADEMICO'] = df['ESTU_PRGM_ACADEMICO'].apply(lambda x: 'CIENCIAS DE LA TIERRA' if 'GEO' in x else x)\n",
        "  df['ESTU_PRGM_ACADEMICO'] = df['ESTU_PRGM_ACADEMICO'].apply(lambda x: 'CIENCIAS AUDIOVISUALES' if ('CINE' in x or 'RADIO' in x or 'TELEV' in x or 'AUDIOV' in x or 'FOTOG' in x) else x)\n",
        "  df['ESTU_PRGM_ACADEMICO'] = df['ESTU_PRGM_ACADEMICO'].apply(lambda x: 'DERECHO' if 'DERECHO' in x else x)\n",
        "  df['ESTU_PRGM_ACADEMICO'] = df['ESTU_PRGM_ACADEMICO'].apply(lambda x: 'CIENCIAS POLITICAS' if ( 'POLIT' in x or 'POLÍT' in x) else x)\n",
        "  df['ESTU_PRGM_ACADEMICO'] = df['ESTU_PRGM_ACADEMICO'].apply(lambda x: 'INGENIERIA' if 'INGE' in x else x)\n",
        "  df['ESTU_PRGM_ACADEMICO'] = df['ESTU_PRGM_ACADEMICO'].apply(lambda x: 'QUIMICA' if ('QUIM' in x or 'QUÍM' in x or 'QU¿M' in x) else x)\n",
        "  df['ESTU_PRGM_ACADEMICO'] = df['ESTU_PRGM_ACADEMICO'].apply(lambda x: 'CONSTRUCCION' if 'CONST' in x else x)\n",
        "  df['ESTU_PRGM_ACADEMICO'] = df['ESTU_PRGM_ACADEMICO'].apply(lambda x: 'TURISMO' if 'TURIS' in x else x)\n",
        "  df['ESTU_PRGM_ACADEMICO'] = df['ESTU_PRGM_ACADEMICO'].apply(lambda x: 'BIBLIOTECOLOGIA' if 'BIBLIO' in x else x)\n",
        "  df['ESTU_PRGM_ACADEMICO'] = df['ESTU_PRGM_ACADEMICO'].apply(lambda x: 'FILOSOFIA' if 'FILOS' in x else x)\n",
        "  df['ESTU_PRGM_ACADEMICO'] = df['ESTU_PRGM_ACADEMICO'].apply(lambda x: 'FILOLOGIA' if 'FILOL' in x else x)\n",
        "  df['ESTU_PRGM_ACADEMICO'] = df['ESTU_PRGM_ACADEMICO'].apply(lambda x: 'ODONTOLOGIA' if 'ODONTOLOG' in x else x)\n",
        "  df['ESTU_PRGM_ACADEMICO'] = df['ESTU_PRGM_ACADEMICO'].apply(lambda x: 'BIOLOGIA Y MICROBIOLOGIA' if 'BIOL' in x else x)\n",
        "  df['ESTU_PRGM_ACADEMICO'] = df['ESTU_PRGM_ACADEMICO'].apply(lambda x: 'ECOLOGIA' if x.startswith('ECOL')   else x)\n",
        "  df['ESTU_PRGM_ACADEMICO'] = df['ESTU_PRGM_ACADEMICO'].apply(lambda x: 'BACTERIOLOGIA' if 'BACT' in x else x)\n",
        "  df['ESTU_PRGM_ACADEMICO'] = df['ESTU_PRGM_ACADEMICO'].replace('ACUICULTURA', 'ACUICUlTURA')\n",
        "  df['ESTU_PRGM_ACADEMICO'] = df['ESTU_PRGM_ACADEMICO'].apply(lambda x: 'CIENCIAS CULTURALES' if 'CULT' in x else x)\n",
        "  df['ESTU_PRGM_ACADEMICO'] = df['ESTU_PRGM_ACADEMICO'].apply(lambda x: 'INSTRUMENTACION QUIRURGICA' if 'INSTRUMENTACION' in x else x)\n",
        "  df['ESTU_PRGM_ACADEMICO'] = df['ESTU_PRGM_ACADEMICO'].apply(lambda x: 'CIENCIAS MARITIMAS Y AERONAUTICAS' if ('MILIT' in x or 'NAVALES' in x or 'NAU' in x) else x)\n",
        "\n",
        "\n",
        "  # Calcula el conteo de cada valor en la columna 'ESTU_PRGM_ACADEMICO'\n",
        "  conteo_valores = df['ESTU_PRGM_ACADEMICO'].value_counts()\n",
        "\n",
        "  # Obtén los valores que tienen menos de N registros\n",
        "  valores_menos_de_20 = conteo_valores[conteo_valores <= 20]\n",
        "  valores_menos_de_20\n",
        "\n",
        "  # Reemplaza los valores que tienen menos de N registros con 'OTRO PROGRAMA'\n",
        "  for valor in valores_menos_de_20.index:\n",
        "      df.loc[df['ESTU_PRGM_ACADEMICO'] == valor, 'ESTU_PRGM_ACADEMICO'] = 'OTRO PROGRAMA'\n",
        "\n",
        "  df = pd.get_dummies(df, columns= [\"ESTU_PRGM_ACADEMICO\",\"ESTU_PRGM_DEPARTAMENTO\",\"FAMI_EDUCACIONPADRE\",\"FAMI_EDUCACIONMADRE\"])\n",
        "  df = df.fillna(-1).astype(int)\n",
        "\n",
        "\n",
        "\n",
        "  return df"
      ],
      "metadata": {
        "id": "05QK54Jf758C"
      },
      "execution_count": 7,
      "outputs": []
    },
    {
      "cell_type": "code",
      "source": [
        "lentr = len(df_train)\n",
        "\n",
        "# Definir las columnas de origen, excluyendo la variable objetivo\n",
        "source_cols = [i for i in df_train.columns if i != \"RENDIMIENTO_GLOBAL\"]\n",
        "\n",
        "# Combinar los datos de entrenamiento y prueba para preprocesamiento\n",
        "all_data = pd.concat((df_train[source_cols], df_test[source_cols]))\n",
        "all_data.index = range(len(all_data))\n",
        "\n",
        "# Limpiar los datos usando la función clean_data\n",
        "all_data = clean_data(all_data)\n",
        "\n",
        "# Dividir los datos combinados nuevamente en conjuntos de entrenamiento y prueba\n",
        "Xtrain = all_data.iloc[:lentr].values\n",
        "ytrain = df_train[\"RENDIMIENTO_GLOBAL\"].values\n",
        "Xtest = all_data.iloc[lentr:].values\n",
        "\n",
        "# Imprimir las formas de los conjuntos de entrenamiento y prueba\n",
        "print(\"Forma de Xtrain:\", Xtrain.shape)\n",
        "print(\"Forma de ytrain:\", ytrain.shape)\n",
        "print(\"Forma de Xtest:\", Xtest.shape)"
      ],
      "metadata": {
        "colab": {
          "base_uri": "https://localhost:8080/"
        },
        "id": "RxEZ_hyv8hFG",
        "outputId": "0c5bf3c8-04f5-42bd-89c4-56de5ebb01a1"
      },
      "execution_count": 8,
      "outputs": [
        {
          "output_type": "stream",
          "name": "stderr",
          "text": [
            "<ipython-input-7-b3c18f7febc4>:9: FutureWarning: A value is trying to be set on a copy of a DataFrame or Series through chained assignment using an inplace method.\n",
            "The behavior will change in pandas 3.0. This inplace method will never work because the intermediate object on which we are setting values always behaves as a copy.\n",
            "\n",
            "For example, when doing 'df[col].method(value, inplace=True)', try using 'df.method({col: value}, inplace=True)' or df[col] = df[col].method(value) instead, to perform the operation inplace on the original object.\n",
            "\n",
            "\n",
            "  df['FAMI_ESTRATOVIVIENDA'].replace(['Estrato 1','Estrato 2','Estrato 3','Estrato 4','Estrato 5','Estrato 6','Sin Estrato'],[1,2,3,4,5,6,0],inplace=True)\n",
            "<ipython-input-7-b3c18f7febc4>:9: FutureWarning: Downcasting behavior in `replace` is deprecated and will be removed in a future version. To retain the old behavior, explicitly call `result.infer_objects(copy=False)`. To opt-in to the future behavior, set `pd.set_option('future.no_silent_downcasting', True)`\n",
            "  df['FAMI_ESTRATOVIVIENDA'].replace(['Estrato 1','Estrato 2','Estrato 3','Estrato 4','Estrato 5','Estrato 6','Sin Estrato'],[1,2,3,4,5,6,0],inplace=True)\n",
            "<ipython-input-7-b3c18f7febc4>:12: FutureWarning: Downcasting behavior in `replace` is deprecated and will be removed in a future version. To retain the old behavior, explicitly call `result.infer_objects(copy=False)`. To opt-in to the future behavior, set `pd.set_option('future.no_silent_downcasting', True)`\n",
            "  df[\"FAMI_TIENEINTERNET\"] = df[\"FAMI_TIENEINTERNET\"].replace({'Si': 1, 'No': 0})\n",
            "<ipython-input-7-b3c18f7febc4>:13: FutureWarning: Downcasting behavior in `replace` is deprecated and will be removed in a future version. To retain the old behavior, explicitly call `result.infer_objects(copy=False)`. To opt-in to the future behavior, set `pd.set_option('future.no_silent_downcasting', True)`\n",
            "  df[\"ESTU_PAGOMATRICULAPROPIO\"] = df[\"ESTU_PAGOMATRICULAPROPIO\"].replace({'Si': 1, 'No': 0})\n",
            "<ipython-input-7-b3c18f7febc4>:15: FutureWarning: A value is trying to be set on a copy of a DataFrame or Series through chained assignment using an inplace method.\n",
            "The behavior will change in pandas 3.0. This inplace method will never work because the intermediate object on which we are setting values always behaves as a copy.\n",
            "\n",
            "For example, when doing 'df[col].method(value, inplace=True)', try using 'df.method({col: value}, inplace=True)' or df[col] = df[col].method(value) instead, to perform the operation inplace on the original object.\n",
            "\n",
            "\n",
            "  df['ESTU_VALORMATRICULAUNIVERSIDAD'].replace(['No pagó matrícula'],[0],inplace=True)\n",
            "<ipython-input-7-b3c18f7febc4>:22: FutureWarning: Downcasting behavior in `replace` is deprecated and will be removed in a future version. To retain the old behavior, explicitly call `result.infer_objects(copy=False)`. To opt-in to the future behavior, set `pd.set_option('future.no_silent_downcasting', True)`\n",
            "  df['ESTU_VALORMATRICULAUNIVERSIDAD'].replace(['Más de 7 millones'],[7],inplace=True)\n",
            "<ipython-input-7-b3c18f7febc4>:24: FutureWarning: A value is trying to be set on a copy of a DataFrame or Series through chained assignment using an inplace method.\n",
            "The behavior will change in pandas 3.0. This inplace method will never work because the intermediate object on which we are setting values always behaves as a copy.\n",
            "\n",
            "For example, when doing 'df[col].method(value, inplace=True)', try using 'df.method({col: value}, inplace=True)' or df[col] = df[col].method(value) instead, to perform the operation inplace on the original object.\n",
            "\n",
            "\n",
            "  df['ESTU_HORASSEMANATRABAJA'].replace(['0','Menos de 10 horas','Entre 11 y 20 horas','Entre 21 y 30 horas','Más de 30 horas'],[0,1,2,3,4],inplace=True)\n",
            "<ipython-input-7-b3c18f7febc4>:24: FutureWarning: Downcasting behavior in `replace` is deprecated and will be removed in a future version. To retain the old behavior, explicitly call `result.infer_objects(copy=False)`. To opt-in to the future behavior, set `pd.set_option('future.no_silent_downcasting', True)`\n",
            "  df['ESTU_HORASSEMANATRABAJA'].replace(['0','Menos de 10 horas','Entre 11 y 20 horas','Entre 21 y 30 horas','Más de 30 horas'],[0,1,2,3,4],inplace=True)\n"
          ]
        },
        {
          "output_type": "stream",
          "name": "stdout",
          "text": [
            "Forma de Xtrain: (692500, 162)\n",
            "Forma de ytrain: (692500,)\n",
            "Forma de Xtest: (296786, 162)\n"
          ]
        }
      ]
    },
    {
      "cell_type": "markdown",
      "source": [
        "# **Entrenar el modelo**"
      ],
      "metadata": {
        "id": "h3g4QzAxA-e1"
      }
    },
    {
      "cell_type": "code",
      "source": [
        "# Importar las bibliotecas necesarias\n",
        "from sklearn.ensemble import RandomForestClassifier\n",
        "from sklearn.svm import SVC\n",
        "from sklearn.model_selection import cross_val_score\n",
        "\n",
        "# Definir el clasificador RandomForest\n",
        "#rf = RandomForestClassifier()\n",
        "\n",
        "# Realizar validación cruzada en el conjunto de entrenamiento\n",
        "#cv_scores = cross_val_score(rf, Xtrain, ytrain)\n",
        "#print(\"Puntuaciones de validación cruzada:\", cv_scores)\n",
        "\n",
        "rf = RandomForestClassifier(n_estimators=75, max_depth=8, min_samples_split=3, max_features='sqrt')\n",
        "print (cross_val_score(rf, Xtrain, ytrain, cv=5)) # cv=5 para validación cruzada con 5 pliegues\n",
        "\n",
        "\n",
        "# Entrenar el clasificador en los datos de entrenamiento\n",
        "rf.fit(Xtrain, ytrain)\n",
        "\n",
        "# Predecir en el conjunto de prueba\n",
        "preds_ts = rf.predict(Xtest)\n",
        "print(\"Predicciones en el conjunto de prueba:\", preds_ts)"
      ],
      "metadata": {
        "colab": {
          "base_uri": "https://localhost:8080/"
        },
        "id": "_v_JhC4D8wZ7",
        "outputId": "4aa4e483-191e-48c9-9123-2bb9995bb75d"
      },
      "execution_count": 9,
      "outputs": [
        {
          "output_type": "stream",
          "name": "stdout",
          "text": [
            "[0.38755235 0.38766065 0.38987004 0.38765343 0.38764621]\n",
            "Predicciones en el conjunto de prueba: ['bajo' 'bajo' 'alto' ... 'alto' 'alto' 'alto']\n"
          ]
        }
      ]
    },
    {
      "cell_type": "markdown",
      "source": [
        "# **Creación de archivo con las variables necesarias**"
      ],
      "metadata": {
        "id": "KLRaHwo4BCnt"
      }
    },
    {
      "cell_type": "code",
      "source": [
        "# Crear un DataFrame de envío con el ID y los valores predichos\n",
        "submission = pd.DataFrame({\n",
        "    \"ID\": df_test.ID,\n",
        "    \"RENDIMIENTO_GLOBAL\": preds_ts\n",
        "})\n",
        "\n",
        "# Mostrar las primeras filas del DataFrame de envío\n",
        "print(submission.head())\n",
        "\n",
        "# Guardar el DataFrame de envío en un archivo CSV\n",
        "print(\"*************** Crear archivo ************\")\n",
        "submission.to_csv(\"archivo_final.csv\", index=False)"
      ],
      "metadata": {
        "colab": {
          "base_uri": "https://localhost:8080/"
        },
        "id": "HjR3IoDV9GT0",
        "outputId": "6189bb74-5ea6-4582-f2b9-1dce12bb34fe"
      },
      "execution_count": 10,
      "outputs": [
        {
          "output_type": "stream",
          "name": "stdout",
          "text": [
            "       ID RENDIMIENTO_GLOBAL\n",
            "0  550236               bajo\n",
            "1   98545               bajo\n",
            "2  499179               alto\n",
            "3  782980               bajo\n",
            "4  785185               bajo\n",
            "*************** Crear archivo ************\n"
          ]
        }
      ]
    }
  ]
}